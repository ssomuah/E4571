{
 "cells": [
  {
   "cell_type": "markdown",
   "metadata": {},
   "source": [
    "# Plan"
   ]
  },
  {
   "cell_type": "markdown",
   "metadata": {},
   "source": [
    "For part Two of the project we would take the second option and implement a solution using Spark. The general outline would be:\n",
    "1. Implement the matrix factorization and neighbourhood based models from Part 1 using Spark\n",
    "2. Perform the same evaluation with a dataset of the same size and compare the time taken. We expect a speed up to be one of the primary advantages of Spark.\n",
    "3. Expand the size of the dataset and evaluate any performance gains or time penalties\n",
    "4. Augment our dataset with any available metadata about books eg, tags, categories, length. One possible source of metadata is the [goodreads](https://github.com/zygmuntz/goodbooks-10k) dataset.\n"
   ]
  }
 ],
 "metadata": {
  "kernelspec": {
   "display_name": "Python [conda env:ML]",
   "language": "python",
   "name": "conda-env-ML-py"
  },
  "language_info": {
   "codemirror_mode": {
    "name": "ipython",
    "version": 3
   },
   "file_extension": ".py",
   "mimetype": "text/x-python",
   "name": "python",
   "nbconvert_exporter": "python",
   "pygments_lexer": "ipython3",
   "version": "3.6.0"
  }
 },
 "nbformat": 4,
 "nbformat_minor": 1
}
