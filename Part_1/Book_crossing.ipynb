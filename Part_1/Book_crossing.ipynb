{
 "cells": [
  {
   "cell_type": "code",
   "execution_count": 1,
   "metadata": {
    "collapsed": false
   },
   "outputs": [
    {
     "name": "stderr",
     "output_type": "stream",
     "text": [
      "C:\\Users\\akwes\\Anaconda2\\envs\\ML\\lib\\site-packages\\IPython\\html.py:14: ShimWarning: The `IPython.html` package has been deprecated since IPython 4.0. You should import from `notebook` instead. `IPython.html.widgets` has moved to `ipywidgets`.\n",
      "  \"`IPython.html.widgets` has moved to `ipywidgets`.\", ShimWarning)\n",
      "C:\\Users\\akwes\\Anaconda2\\envs\\ML\\lib\\site-packages\\sklearn\\cross_validation.py:44: DeprecationWarning: This module was deprecated in version 0.18 in favor of the model_selection module into which all the refactored classes and functions are moved. Also note that the interface of the new CV iterators are different from that of this module. This module will be removed in 0.20.\n",
      "  \"This module will be removed in 0.20.\", DeprecationWarning)\n"
     ]
    }
   ],
   "source": [
    "import pandas as pd\n",
    "import numpy as np\n",
    "import sys\n",
    "from math import sqrt \n",
    "from IPython.display import display\n",
    "import matplotlib.pyplot as plt\n",
    "import seaborn as sns\n",
    "from sklearn.model_selection import KFold\n",
    "from sklearn import cross_validation\n",
    "from sklearn.metrics.pairwise import pairwise_distances\n",
    "from sklearn.metrics import mean_squared_error,mean_absolute_error\n",
    "from scipy.sparse.linalg import svds\n",
    "from surprise import SVD,KNNBasic\n",
    "from surprise.dataset import Reader\n",
    "from surprise import Dataset as ds\n",
    "from surprise import evaluate, print_perf\n"
   ]
  },
  {
   "cell_type": "code",
   "execution_count": 2,
   "metadata": {
    "collapsed": false
   },
   "outputs": [
    {
     "name": "stdout",
     "output_type": "stream",
     "text": [
      "3.6.0 |Continuum Analytics, Inc.| (default, Dec 23 2016, 11:57:41) [MSC v.1900 64 bit (AMD64)]\n"
     ]
    }
   ],
   "source": [
    "print (sys.version)"
   ]
  },
  {
   "cell_type": "markdown",
   "metadata": {},
   "source": [
    "# Introduction\n",
    "\n",
    "This is a case study in recommender systems, specifically collaborative filtering. We will use two different mehtods for collaborative filtering and present it as business project.\n",
    "\n"
   ]
  },
  {
   "cell_type": "markdown",
   "metadata": {},
   "source": [
    "# Dataset\n",
    "The dataset we are using is the [book-crossings](http://www2.informatik.uni-freiburg.de/~cziegler/BX/) dataset. It's a collection of ratings scrapped from the book-crossings website. The ratings are in the 1-10 range with 0 for implicit ratings.\n",
    "The book crossings website tracks books that are freely shared through swapping. Due to this the dataset skews towards obscure titles with cult followings. \n"
   ]
  },
  {
   "cell_type": "code",
   "execution_count": 3,
   "metadata": {
    "collapsed": false
   },
   "outputs": [],
   "source": [
    "dataset_raw =pd.read_csv(\"BX-Book-Ratings.csv\",delimiter=\";\",encoding=\"latin_1\")"
   ]
  },
  {
   "cell_type": "code",
   "execution_count": 4,
   "metadata": {
    "collapsed": false
   },
   "outputs": [
    {
     "data": {
      "text/html": [
       "<div>\n",
       "<table border=\"1\" class=\"dataframe\">\n",
       "  <thead>\n",
       "    <tr style=\"text-align: right;\">\n",
       "      <th></th>\n",
       "      <th>User-ID</th>\n",
       "      <th>ISBN</th>\n",
       "      <th>Book-Rating</th>\n",
       "    </tr>\n",
       "  </thead>\n",
       "  <tbody>\n",
       "    <tr>\n",
       "      <th>0</th>\n",
       "      <td>276725</td>\n",
       "      <td>034545104X</td>\n",
       "      <td>0</td>\n",
       "    </tr>\n",
       "    <tr>\n",
       "      <th>1</th>\n",
       "      <td>276726</td>\n",
       "      <td>0155061224</td>\n",
       "      <td>5</td>\n",
       "    </tr>\n",
       "    <tr>\n",
       "      <th>2</th>\n",
       "      <td>276727</td>\n",
       "      <td>0446520802</td>\n",
       "      <td>0</td>\n",
       "    </tr>\n",
       "    <tr>\n",
       "      <th>3</th>\n",
       "      <td>276729</td>\n",
       "      <td>052165615X</td>\n",
       "      <td>3</td>\n",
       "    </tr>\n",
       "    <tr>\n",
       "      <th>4</th>\n",
       "      <td>276729</td>\n",
       "      <td>0521795028</td>\n",
       "      <td>6</td>\n",
       "    </tr>\n",
       "  </tbody>\n",
       "</table>\n",
       "</div>"
      ],
      "text/plain": [
       "   User-ID        ISBN  Book-Rating\n",
       "0   276725  034545104X            0\n",
       "1   276726  0155061224            5\n",
       "2   276727  0446520802            0\n",
       "3   276729  052165615X            3\n",
       "4   276729  0521795028            6"
      ]
     },
     "execution_count": 4,
     "metadata": {},
     "output_type": "execute_result"
    }
   ],
   "source": [
    "#Let's take a look at what the data looks like \n",
    "dataset_raw.head()"
   ]
  },
  {
   "cell_type": "code",
   "execution_count": 5,
   "metadata": {
    "collapsed": false
   },
   "outputs": [
    {
     "data": {
      "text/plain": [
       "False"
      ]
     },
     "execution_count": 5,
     "metadata": {},
     "output_type": "execute_result"
    }
   ],
   "source": [
    "#nobody likes duplicates\n",
    "dataset_raw.duplicated([\"User-ID\",\"ISBN\"]).any()"
   ]
  },
  {
   "cell_type": "markdown",
   "metadata": {},
   "source": [
    "The very first thing is that we want to use explicit ratings so let's remove anything less than 1"
   ]
  },
  {
   "cell_type": "code",
   "execution_count": 6,
   "metadata": {
    "collapsed": true
   },
   "outputs": [],
   "source": [
    "dataset=dataset_raw[dataset_raw[\"Book-Rating\"]>=1]"
   ]
  },
  {
   "cell_type": "code",
   "execution_count": 7,
   "metadata": {
    "collapsed": false
   },
   "outputs": [
    {
     "name": "stdout",
     "output_type": "stream",
     "text": [
      "The number of unique users is 77,805\n",
      "The number of unique books is 185,973\n",
      "The number of ratings is 433,671\n"
     ]
    }
   ],
   "source": [
    "#Let's take a look at some summary statistics\n",
    "unique_users = len(dataset[\"User-ID\"].unique())\n",
    "print (\"The number of unique users is {:,}\".format(unique_users))\n",
    "unique_movies = len(dataset[\"ISBN\"].unique())\n",
    "print (\"The number of unique books is {:,}\".format(unique_movies))\n",
    "ratings = dataset.shape[0]\n",
    "print (\"The number of ratings is {:,}\".format(ratings))"
   ]
  },
  {
   "cell_type": "code",
   "execution_count": 8,
   "metadata": {
    "collapsed": false
   },
   "outputs": [
    {
     "data": {
      "text/plain": [
       "count    185973.000000\n",
       "mean          2.331903\n",
       "std           6.834667\n",
       "min           1.000000\n",
       "25%           1.000000\n",
       "50%           1.000000\n",
       "75%           2.000000\n",
       "max         707.000000\n",
       "Name: Book-Rating, dtype: float64"
      ]
     },
     "metadata": {},
     "output_type": "display_data"
    },
    {
     "data": {
      "text/plain": [
       "count    77805.000000\n",
       "mean         5.573819\n",
       "std         44.001879\n",
       "min          1.000000\n",
       "25%          1.000000\n",
       "50%          1.000000\n",
       "75%          3.000000\n",
       "max       8524.000000\n",
       "Name: Book-Rating, dtype: float64"
      ]
     },
     "metadata": {},
     "output_type": "display_data"
    }
   ],
   "source": [
    "#It's quite likely only some very \"popular\" books have many ratings, and most users haven't rated many books\n",
    "book_counts = dataset.groupby([\"ISBN\"]).count()\n",
    "display(book_counts[\"Book-Rating\"].describe())\n",
    "\n",
    "user_counts = dataset.groupby([\"User-ID\"]).count()\n",
    "display(user_counts[\"Book-Rating\"].describe())"
   ]
  },
  {
   "cell_type": "markdown",
   "metadata": {},
   "source": [
    "The average number of ratings per book is only 2.33, and even worse the 75th percentile is only 2 ratings.  \n",
    "Regarding users, the 75th percentile is only 3 ratings. All around a rather sparse dataset.\n",
    "\n",
    "In both cases the distributions are heavily skewed by some extremely \"popular\" books and active users.  \n",
    "\n",
    "We can probably cut off a large number of both users and books which have little interaction. This will affect our coverage though. Another reason to cut off a lot of data is that memory based models are resource intensive and wont work on large datasets.\n",
    "\n"
   ]
  },
  {
   "cell_type": "code",
   "execution_count": 9,
   "metadata": {
    "collapsed": true
   },
   "outputs": [],
   "source": [
    "#plot distribution of ratings\n",
    "#plot ratings per user "
   ]
  },
  {
   "cell_type": "code",
   "execution_count": 10,
   "metadata": {
    "collapsed": false
   },
   "outputs": [
    {
     "name": "stdout",
     "output_type": "stream",
     "text": [
      "0.75     2.0\n",
      "0.76     2.0\n",
      "0.77     2.0\n",
      "0.78     2.0\n",
      "0.79     2.0\n",
      "0.80     2.0\n",
      "0.81     2.0\n",
      "0.82     2.0\n",
      "0.83     2.0\n",
      "0.84     3.0\n",
      "0.85     3.0\n",
      "0.86     3.0\n",
      "0.87     3.0\n",
      "0.88     3.0\n",
      "0.89     3.0\n",
      "0.90     4.0\n",
      "0.91     4.0\n",
      "0.92     4.0\n",
      "0.93     5.0\n",
      "0.94     6.0\n",
      "0.95     6.0\n",
      "0.96     8.0\n",
      "0.97    10.0\n",
      "0.98    13.0\n",
      "0.99    22.0\n",
      "Name: Book-Rating, dtype: float64\n"
     ]
    }
   ],
   "source": [
    "print (book_counts['Book-Rating'].quantile(np.arange(.75, 1, .01)))"
   ]
  },
  {
   "cell_type": "code",
   "execution_count": 11,
   "metadata": {
    "collapsed": false
   },
   "outputs": [
    {
     "name": "stdout",
     "output_type": "stream",
     "text": [
      "0.75     3.0\n",
      "0.76     3.0\n",
      "0.77     3.0\n",
      "0.78     4.0\n",
      "0.79     4.0\n",
      "0.80     4.0\n",
      "0.81     4.0\n",
      "0.82     5.0\n",
      "0.83     5.0\n",
      "0.84     5.0\n",
      "0.85     6.0\n",
      "0.86     6.0\n",
      "0.87     7.0\n",
      "0.88     7.0\n",
      "0.89     8.0\n",
      "0.90     9.0\n",
      "0.91    10.0\n",
      "0.92    11.0\n",
      "0.93    13.0\n",
      "0.94    16.0\n",
      "0.95    19.0\n",
      "0.96    23.0\n",
      "0.97    30.0\n",
      "0.98    44.0\n",
      "0.99    73.0\n",
      "Name: Book-Rating, dtype: float64\n"
     ]
    }
   ],
   "source": [
    "print (user_counts['Book-Rating'].quantile(np.arange(.75, 1, .01)))"
   ]
  },
  {
   "cell_type": "code",
   "execution_count": 12,
   "metadata": {
    "collapsed": false,
    "scrolled": true
   },
   "outputs": [],
   "source": [
    "#Can we get some idea of what the most frequently rated books are?\n",
    "#Can we see what the most positively rated book is \n",
    "\n",
    "#Load the book descriptions \n",
    "descriptions_dataset =pd.read_csv(\"BX-Books.csv\",delimiter=\";\",encoding='latin_1',escapechar=\"\\\\\")\n",
    "\n",
    "#join descriptions to the books\n",
    "merged=pd.merge(dataset,descriptions_dataset,how=\"inner\",on=\"ISBN\")\n"
   ]
  },
  {
   "cell_type": "code",
   "execution_count": 13,
   "metadata": {
    "collapsed": false
   },
   "outputs": [
    {
     "data": {
      "text/html": [
       "<div>\n",
       "<table border=\"1\" class=\"dataframe\">\n",
       "  <thead>\n",
       "    <tr style=\"text-align: right;\">\n",
       "      <th></th>\n",
       "      <th></th>\n",
       "      <th>Book-Rating</th>\n",
       "    </tr>\n",
       "    <tr>\n",
       "      <th>ISBN</th>\n",
       "      <th>Book-Title</th>\n",
       "      <th></th>\n",
       "    </tr>\n",
       "  </thead>\n",
       "  <tbody>\n",
       "    <tr>\n",
       "      <th>0316666343</th>\n",
       "      <th>The Lovely Bones: A Novel</th>\n",
       "      <td>707</td>\n",
       "    </tr>\n",
       "    <tr>\n",
       "      <th>0971880107</th>\n",
       "      <th>Wild Animus</th>\n",
       "      <td>581</td>\n",
       "    </tr>\n",
       "    <tr>\n",
       "      <th>0385504209</th>\n",
       "      <th>The Da Vinci Code</th>\n",
       "      <td>487</td>\n",
       "    </tr>\n",
       "    <tr>\n",
       "      <th>0312195516</th>\n",
       "      <th>The Red Tent (Bestselling Backlist)</th>\n",
       "      <td>383</td>\n",
       "    </tr>\n",
       "    <tr>\n",
       "      <th>0060928336</th>\n",
       "      <th>Divine Secrets of the Ya-Ya Sisterhood: A Novel</th>\n",
       "      <td>320</td>\n",
       "    </tr>\n",
       "    <tr>\n",
       "      <th>059035342X</th>\n",
       "      <th>Harry Potter and the Sorcerer's Stone (Harry Potter (Paperback))</th>\n",
       "      <td>313</td>\n",
       "    </tr>\n",
       "    <tr>\n",
       "      <th>0142001740</th>\n",
       "      <th>The Secret Life of Bees</th>\n",
       "      <td>307</td>\n",
       "    </tr>\n",
       "    <tr>\n",
       "      <th>0446672211</th>\n",
       "      <th>Where the Heart Is (Oprah's Book Club (Paperback))</th>\n",
       "      <td>295</td>\n",
       "    </tr>\n",
       "    <tr>\n",
       "      <th>044023722X</th>\n",
       "      <th>A Painted House</th>\n",
       "      <td>281</td>\n",
       "    </tr>\n",
       "    <tr>\n",
       "      <th>0452282152</th>\n",
       "      <th>Girl with a Pearl Earring</th>\n",
       "      <td>278</td>\n",
       "    </tr>\n",
       "  </tbody>\n",
       "</table>\n",
       "</div>"
      ],
      "text/plain": [
       "                                                               Book-Rating\n",
       "ISBN       Book-Title                                                     \n",
       "0316666343 The Lovely Bones: A Novel                                   707\n",
       "0971880107 Wild Animus                                                 581\n",
       "0385504209 The Da Vinci Code                                           487\n",
       "0312195516 The Red Tent (Bestselling Backlist)                         383\n",
       "0060928336 Divine Secrets of the Ya-Ya Sisterhood: A Novel             320\n",
       "059035342X Harry Potter and the Sorcerer's Stone (Harry Po...          313\n",
       "0142001740 The Secret Life of Bees                                     307\n",
       "0446672211 Where the Heart Is (Oprah's Book Club (Paperback))          295\n",
       "044023722X A Painted House                                             281\n",
       "0452282152 Girl with a Pearl Earring                                   278"
      ]
     },
     "execution_count": 13,
     "metadata": {},
     "output_type": "execute_result"
    }
   ],
   "source": [
    "num_rated=merged.groupby([\"ISBN\",\"Book-Title\"]).count()\n",
    "num_rated.sort_values(\"Book-Rating\",ascending=False)[[\"Book-Rating\"]].head(10)\n"
   ]
  },
  {
   "cell_type": "code",
   "execution_count": 14,
   "metadata": {
    "collapsed": false
   },
   "outputs": [
    {
     "data": {
      "text/html": [
       "<div>\n",
       "<table border=\"1\" class=\"dataframe\">\n",
       "  <thead>\n",
       "    <tr style=\"text-align: right;\">\n",
       "      <th></th>\n",
       "      <th></th>\n",
       "      <th>Book-Rating</th>\n",
       "    </tr>\n",
       "    <tr>\n",
       "      <th>ISBN</th>\n",
       "      <th>Book-Title</th>\n",
       "      <th></th>\n",
       "    </tr>\n",
       "  </thead>\n",
       "  <tbody>\n",
       "    <tr>\n",
       "      <th>034017420X</th>\n",
       "      <th>Seven Men of Gascony Rfd Hpb</th>\n",
       "      <td>10.0</td>\n",
       "    </tr>\n",
       "    <tr>\n",
       "      <th>0821414534</th>\n",
       "      <th>Ohio Is My Dwelling Place: Schoolgirl Embroideries, 1803-1850</th>\n",
       "      <td>10.0</td>\n",
       "    </tr>\n",
       "    <tr>\n",
       "      <th>0821225987</th>\n",
       "      <th>Physiognomy : The Mark Seliger Photographs</th>\n",
       "      <td>10.0</td>\n",
       "    </tr>\n",
       "    <tr>\n",
       "      <th>0821226665</th>\n",
       "      <th>White on White : Creating Elegant Rooms with Classic Whites</th>\n",
       "      <td>10.0</td>\n",
       "    </tr>\n",
       "    <tr>\n",
       "      <th>0821226703</th>\n",
       "      <th>Air and Space : The National Air and Space Museum Story of Flight</th>\n",
       "      <td>10.0</td>\n",
       "    </tr>\n",
       "    <tr>\n",
       "      <th>0821226770</th>\n",
       "      <th>Pope John Paul II : A Tribute</th>\n",
       "      <td>10.0</td>\n",
       "    </tr>\n",
       "    <tr>\n",
       "      <th>0821227718</th>\n",
       "      <th>Life: World War 2: History's Greatest Conflict in Pictures</th>\n",
       "      <td>10.0</td>\n",
       "    </tr>\n",
       "    <tr>\n",
       "      <th>0821227947</th>\n",
       "      <th>The Breathing Field: Meditations on Yoga</th>\n",
       "      <td>10.0</td>\n",
       "    </tr>\n",
       "    <tr>\n",
       "      <th>0821228188</th>\n",
       "      <th>Wise Women : A Celebration of Their Insights, Courage, and Beauty</th>\n",
       "      <td>10.0</td>\n",
       "    </tr>\n",
       "    <tr>\n",
       "      <th>0821228307</th>\n",
       "      <th>If Only You Knew How Much I Smell You: True Portraits of Dogs</th>\n",
       "      <td>10.0</td>\n",
       "    </tr>\n",
       "  </tbody>\n",
       "</table>\n",
       "</div>"
      ],
      "text/plain": [
       "                                                               Book-Rating\n",
       "ISBN       Book-Title                                                     \n",
       "034017420X Seven Men of Gascony Rfd Hpb                               10.0\n",
       "0821414534 Ohio Is My Dwelling Place: Schoolgirl Embroider...         10.0\n",
       "0821225987 Physiognomy : The Mark Seliger Photographs                 10.0\n",
       "0821226665 White on White : Creating Elegant Rooms with Cl...         10.0\n",
       "0821226703 Air and Space : The National Air and Space Muse...         10.0\n",
       "0821226770 Pope John Paul II : A Tribute                              10.0\n",
       "0821227718 Life: World War 2: History's Greatest Conflict ...         10.0\n",
       "0821227947 The Breathing Field: Meditations on Yoga                   10.0\n",
       "0821228188 Wise Women : A Celebration of Their Insights, C...         10.0\n",
       "0821228307 If Only You Knew How Much I Smell You: True Por...         10.0"
      ]
     },
     "execution_count": 14,
     "metadata": {},
     "output_type": "execute_result"
    }
   ],
   "source": [
    "avg_rating=merged.groupby([\"ISBN\",\"Book-Title\"]).mean()\n",
    "avg_rating.sort_values(\"Book-Rating\",ascending=False)[[\"Book-Rating\"]].head(10)"
   ]
  },
  {
   "cell_type": "code",
   "execution_count": 15,
   "metadata": {
    "collapsed": false
   },
   "outputs": [],
   "source": [
    "combined_rating = num_rated.join(avg_rating,lsuffix=\"L\",rsuffix=\"\")"
   ]
  },
  {
   "cell_type": "code",
   "execution_count": 16,
   "metadata": {
    "collapsed": false
   },
   "outputs": [
    {
     "data": {
      "text/html": [
       "<div>\n",
       "<table border=\"1\" class=\"dataframe\">\n",
       "  <thead>\n",
       "    <tr style=\"text-align: right;\">\n",
       "      <th></th>\n",
       "      <th></th>\n",
       "      <th>count</th>\n",
       "      <th>avg_rating</th>\n",
       "    </tr>\n",
       "    <tr>\n",
       "      <th>ISBN</th>\n",
       "      <th>Book-Title</th>\n",
       "      <th></th>\n",
       "      <th></th>\n",
       "    </tr>\n",
       "  </thead>\n",
       "  <tbody>\n",
       "    <tr>\n",
       "      <th>034017420X</th>\n",
       "      <th>Seven Men of Gascony Rfd Hpb</th>\n",
       "      <td>1</td>\n",
       "      <td>10.0</td>\n",
       "    </tr>\n",
       "    <tr>\n",
       "      <th>0821414534</th>\n",
       "      <th>Ohio Is My Dwelling Place: Schoolgirl Embroideries, 1803-1850</th>\n",
       "      <td>1</td>\n",
       "      <td>10.0</td>\n",
       "    </tr>\n",
       "    <tr>\n",
       "      <th>0821225987</th>\n",
       "      <th>Physiognomy : The Mark Seliger Photographs</th>\n",
       "      <td>2</td>\n",
       "      <td>10.0</td>\n",
       "    </tr>\n",
       "    <tr>\n",
       "      <th>0821226665</th>\n",
       "      <th>White on White : Creating Elegant Rooms with Classic Whites</th>\n",
       "      <td>1</td>\n",
       "      <td>10.0</td>\n",
       "    </tr>\n",
       "    <tr>\n",
       "      <th>0821226703</th>\n",
       "      <th>Air and Space : The National Air and Space Museum Story of Flight</th>\n",
       "      <td>1</td>\n",
       "      <td>10.0</td>\n",
       "    </tr>\n",
       "    <tr>\n",
       "      <th>0821226770</th>\n",
       "      <th>Pope John Paul II : A Tribute</th>\n",
       "      <td>1</td>\n",
       "      <td>10.0</td>\n",
       "    </tr>\n",
       "    <tr>\n",
       "      <th>0821227718</th>\n",
       "      <th>Life: World War 2: History's Greatest Conflict in Pictures</th>\n",
       "      <td>1</td>\n",
       "      <td>10.0</td>\n",
       "    </tr>\n",
       "    <tr>\n",
       "      <th>0821227947</th>\n",
       "      <th>The Breathing Field: Meditations on Yoga</th>\n",
       "      <td>1</td>\n",
       "      <td>10.0</td>\n",
       "    </tr>\n",
       "    <tr>\n",
       "      <th>0821228188</th>\n",
       "      <th>Wise Women : A Celebration of Their Insights, Courage, and Beauty</th>\n",
       "      <td>2</td>\n",
       "      <td>10.0</td>\n",
       "    </tr>\n",
       "    <tr>\n",
       "      <th>0821228307</th>\n",
       "      <th>If Only You Knew How Much I Smell You: True Portraits of Dogs</th>\n",
       "      <td>3</td>\n",
       "      <td>10.0</td>\n",
       "    </tr>\n",
       "  </tbody>\n",
       "</table>\n",
       "</div>"
      ],
      "text/plain": [
       "                                                               count  \\\n",
       "ISBN       Book-Title                                                  \n",
       "034017420X Seven Men of Gascony Rfd Hpb                            1   \n",
       "0821414534 Ohio Is My Dwelling Place: Schoolgirl Embroider...      1   \n",
       "0821225987 Physiognomy : The Mark Seliger Photographs              2   \n",
       "0821226665 White on White : Creating Elegant Rooms with Cl...      1   \n",
       "0821226703 Air and Space : The National Air and Space Muse...      1   \n",
       "0821226770 Pope John Paul II : A Tribute                           1   \n",
       "0821227718 Life: World War 2: History's Greatest Conflict ...      1   \n",
       "0821227947 The Breathing Field: Meditations on Yoga                1   \n",
       "0821228188 Wise Women : A Celebration of Their Insights, C...      2   \n",
       "0821228307 If Only You Knew How Much I Smell You: True Por...      3   \n",
       "\n",
       "                                                               avg_rating  \n",
       "ISBN       Book-Title                                                      \n",
       "034017420X Seven Men of Gascony Rfd Hpb                              10.0  \n",
       "0821414534 Ohio Is My Dwelling Place: Schoolgirl Embroider...        10.0  \n",
       "0821225987 Physiognomy : The Mark Seliger Photographs                10.0  \n",
       "0821226665 White on White : Creating Elegant Rooms with Cl...        10.0  \n",
       "0821226703 Air and Space : The National Air and Space Muse...        10.0  \n",
       "0821226770 Pope John Paul II : A Tribute                             10.0  \n",
       "0821227718 Life: World War 2: History's Greatest Conflict ...        10.0  \n",
       "0821227947 The Breathing Field: Meditations on Yoga                  10.0  \n",
       "0821228188 Wise Women : A Celebration of Their Insights, C...        10.0  \n",
       "0821228307 If Only You Knew How Much I Smell You: True Por...        10.0  "
      ]
     },
     "metadata": {},
     "output_type": "display_data"
    },
    {
     "data": {
      "text/html": [
       "<div>\n",
       "<table border=\"1\" class=\"dataframe\">\n",
       "  <thead>\n",
       "    <tr style=\"text-align: right;\">\n",
       "      <th></th>\n",
       "      <th></th>\n",
       "      <th>count</th>\n",
       "      <th>avg_rating</th>\n",
       "    </tr>\n",
       "    <tr>\n",
       "      <th>ISBN</th>\n",
       "      <th>Book-Title</th>\n",
       "      <th></th>\n",
       "      <th></th>\n",
       "    </tr>\n",
       "  </thead>\n",
       "  <tbody>\n",
       "    <tr>\n",
       "      <th>0316666343</th>\n",
       "      <th>The Lovely Bones: A Novel</th>\n",
       "      <td>707</td>\n",
       "      <td>8.185290</td>\n",
       "    </tr>\n",
       "    <tr>\n",
       "      <th>0971880107</th>\n",
       "      <th>Wild Animus</th>\n",
       "      <td>581</td>\n",
       "      <td>4.390706</td>\n",
       "    </tr>\n",
       "    <tr>\n",
       "      <th>0385504209</th>\n",
       "      <th>The Da Vinci Code</th>\n",
       "      <td>487</td>\n",
       "      <td>8.435318</td>\n",
       "    </tr>\n",
       "    <tr>\n",
       "      <th>0312195516</th>\n",
       "      <th>The Red Tent (Bestselling Backlist)</th>\n",
       "      <td>383</td>\n",
       "      <td>8.182768</td>\n",
       "    </tr>\n",
       "    <tr>\n",
       "      <th>0060928336</th>\n",
       "      <th>Divine Secrets of the Ya-Ya Sisterhood: A Novel</th>\n",
       "      <td>320</td>\n",
       "      <td>7.887500</td>\n",
       "    </tr>\n",
       "    <tr>\n",
       "      <th>059035342X</th>\n",
       "      <th>Harry Potter and the Sorcerer's Stone (Harry Potter (Paperback))</th>\n",
       "      <td>313</td>\n",
       "      <td>8.939297</td>\n",
       "    </tr>\n",
       "    <tr>\n",
       "      <th>0142001740</th>\n",
       "      <th>The Secret Life of Bees</th>\n",
       "      <td>307</td>\n",
       "      <td>8.452769</td>\n",
       "    </tr>\n",
       "    <tr>\n",
       "      <th>0446672211</th>\n",
       "      <th>Where the Heart Is (Oprah's Book Club (Paperback))</th>\n",
       "      <td>295</td>\n",
       "      <td>8.142373</td>\n",
       "    </tr>\n",
       "    <tr>\n",
       "      <th>044023722X</th>\n",
       "      <th>A Painted House</th>\n",
       "      <td>281</td>\n",
       "      <td>7.338078</td>\n",
       "    </tr>\n",
       "    <tr>\n",
       "      <th>0452282152</th>\n",
       "      <th>Girl with a Pearl Earring</th>\n",
       "      <td>278</td>\n",
       "      <td>7.982014</td>\n",
       "    </tr>\n",
       "  </tbody>\n",
       "</table>\n",
       "</div>"
      ],
      "text/plain": [
       "                                                               count  \\\n",
       "ISBN       Book-Title                                                  \n",
       "0316666343 The Lovely Bones: A Novel                             707   \n",
       "0971880107 Wild Animus                                           581   \n",
       "0385504209 The Da Vinci Code                                     487   \n",
       "0312195516 The Red Tent (Bestselling Backlist)                   383   \n",
       "0060928336 Divine Secrets of the Ya-Ya Sisterhood: A Novel       320   \n",
       "059035342X Harry Potter and the Sorcerer's Stone (Harry Po...    313   \n",
       "0142001740 The Secret Life of Bees                               307   \n",
       "0446672211 Where the Heart Is (Oprah's Book Club (Paperback))    295   \n",
       "044023722X A Painted House                                       281   \n",
       "0452282152 Girl with a Pearl Earring                             278   \n",
       "\n",
       "                                                               avg_rating  \n",
       "ISBN       Book-Title                                                      \n",
       "0316666343 The Lovely Bones: A Novel                             8.185290  \n",
       "0971880107 Wild Animus                                           4.390706  \n",
       "0385504209 The Da Vinci Code                                     8.435318  \n",
       "0312195516 The Red Tent (Bestselling Backlist)                   8.182768  \n",
       "0060928336 Divine Secrets of the Ya-Ya Sisterhood: A Novel       7.887500  \n",
       "059035342X Harry Potter and the Sorcerer's Stone (Harry Po...    8.939297  \n",
       "0142001740 The Secret Life of Bees                               8.452769  \n",
       "0446672211 Where the Heart Is (Oprah's Book Club (Paperback))    8.142373  \n",
       "044023722X A Painted House                                       7.338078  \n",
       "0452282152 Girl with a Pearl Earring                             7.982014  "
      ]
     },
     "metadata": {},
     "output_type": "display_data"
    }
   ],
   "source": [
    "combined_rating.head()\n",
    "\n",
    "#highest rated books and the number of times rated\n",
    "t1=combined_rating.sort_values(\"Book-Rating\",ascending=False)[[\"Book-RatingL\",\"Book-Rating\"]].head(10)\n",
    "t1.columns=[\"count\",\"avg_rating\"]\n",
    "display(t1)\n",
    "\n",
    "#most rated books and the average rating\n",
    "t2=combined_rating.sort_values(\"Book-RatingL\",ascending=False)[[\"Book-RatingL\",\"Book-Rating\"]].head(10)\n",
    "t2.columns=[\"count\",\"avg_rating\"]\n",
    "display(t2)\n"
   ]
  },
  {
   "cell_type": "markdown",
   "metadata": {},
   "source": [
    "# Plan\n",
    "\n",
    "Our objective here is to make recommendations of books based on a user's already rated books.\n",
    "From a business perspective we are assuming we're in the business of selling books and are trying to recommend books in our catalogue that a user would want to buy based on their previously read books. Our measures of success will be the accuracy of our recommendations and the coverage of the catalogue. We're trying to optimize our accuracy to achieve better results than a baseline system that only predicts based on the average user and item ratings. We're limiting our dataset to the most shared books so we are definitely missing out on making serendipitous predictions and will not achieve 100% coverage. Our current plan is not well optimized for users who have no ratings. Since we are filling in a complete ratings matrix for each algorithm our coverage score will not change between algorithms. The last downside is that adding new users or books means recalculating our entire ratings matrix. Our man evaluation metric will be the RMSE calculated on a held out test set\n",
    "\n",
    "## Methods\n",
    "\n",
    "We will implement two recommendation systems\n",
    "* User based collaborative filtering \n",
    "* Low rank Matrix Factorization \n"
   ]
  },
  {
   "cell_type": "markdown",
   "metadata": {},
   "source": [
    "# Pre-process\n",
    "We'll perform the following preprocessing steps.\n",
    "1. To start with we restrict ourselves to around the top .001 percent of the most shared books.\n",
    "2. We'll also restrict rouselves to users that have at least 2 ratings\n",
    "3. To make working with the data easier we will reindex the users and items from 1-n and 1-m.\n",
    "For this first attempt we will drastically reduce the size of the dataset as it is meant to be an epxloratory task.\n",
    "Part of the rationale for trimming the dataset is that we get more accurate results by predicting the most active users and books. In addition collaborative filtering does not scale well with large datasets \n",
    "4. Instead of filling the missing values with 0 before running our algorithm, we will fill them with the average rating for each book.\n",
    "\n"
   ]
  },
  {
   "cell_type": "code",
   "execution_count": 17,
   "metadata": {
    "collapsed": false
   },
   "outputs": [],
   "source": [
    "#1.\n",
    "top_5_index = book_counts[book_counts[\"Book-Rating\"]>book_counts[\"Book-Rating\"].quantile(.999)].index\n",
    "top_5 = merged[merged[\"ISBN\"].isin(top_5_index)]\n",
    "\n",
    "\n",
    "#2.\n",
    "users_group = top_5.groupby([\"User-ID\"]).count()[\"Book-Rating\"]>=2\n",
    "users_index = (users_group[users_group]).index\n",
    "\n",
    "users = top_5[top_5[\"User-ID\"].isin(users_index)]\n",
    "\n",
    "temp=users\n",
    "\n",
    "#temp_group = users.groupby([\"ISBN\"]).count()[\"Book-Rating\"]>=2\n",
    "#temp = temp[temp[\"ISBN\"].isin(temp_group[temp_group].index)]\n",
    "#finally each book must have at least 2 ratings\n",
    "\n",
    "#temp = top_5"
   ]
  },
  {
   "cell_type": "code",
   "execution_count": 18,
   "metadata": {
    "collapsed": false
   },
   "outputs": [
    {
     "data": {
      "text/plain": [
       "0"
      ]
     },
     "execution_count": 18,
     "metadata": {},
     "output_type": "execute_result"
    }
   ],
   "source": [
    "only_one=temp.groupby([\"ISBN\"]).count()[\"Book-Rating\"]==1\n",
    "len(only_one[only_one])"
   ]
  },
  {
   "cell_type": "markdown",
   "metadata": {},
   "source": [
    "Every Book has more than one rating"
   ]
  },
  {
   "cell_type": "code",
   "execution_count": 19,
   "metadata": {
    "collapsed": false
   },
   "outputs": [
    {
     "name": "stdout",
     "output_type": "stream",
     "text": [
      "The number of unique users in the trimmed dataset is 4,328\n",
      "The number of unique books in the trimmed dataset is 178\n",
      "The number of ratings in the trimmed dataset is 17,195\n"
     ]
    }
   ],
   "source": [
    "N = temp[\"User-ID\"].unique()\n",
    "print (\"The number of unique users in the trimmed dataset is {:,}\".format(len(N)))\n",
    "M = temp[\"ISBN\"].unique()\n",
    "print (\"The number of unique books in the trimmed dataset is {:,}\".format(len(M)))\n",
    "print (\"The number of ratings in the trimmed dataset is {:,}\".format(temp.shape[0]))"
   ]
  },
  {
   "cell_type": "code",
   "execution_count": 20,
   "metadata": {
    "collapsed": false
   },
   "outputs": [],
   "source": [
    "#4. take unique users make a dataframe, take unique isbn make a dataframe \n",
    "#reset index on the frames to get the indexes as a column \n",
    "#join the dataset on both of these new frames\n",
    "uid = pd.DataFrame(N)\n",
    "uid = uid.reset_index()\n",
    "uid.columns=[\"uid\", \"User-ID\"]\n",
    "bid = pd.DataFrame(M)\n",
    "bid = bid.reset_index()\n",
    "bid.columns=[\"bid\",\"ISBN\"]"
   ]
  },
  {
   "cell_type": "code",
   "execution_count": 21,
   "metadata": {
    "collapsed": false
   },
   "outputs": [],
   "source": [
    "t1 = temp.merge(uid,how=\"left\",on=[\"User-ID\"])\n",
    "t2 = t1.merge(bid,how=\"left\",on=[\"ISBN\"])\n",
    "\n",
    "data = t2\n",
    "\n",
    "train_data, test_data = cross_validation.train_test_split(data, test_size=.20)"
   ]
  },
  {
   "cell_type": "code",
   "execution_count": 22,
   "metadata": {
    "collapsed": false
   },
   "outputs": [
    {
     "name": "stdout",
     "output_type": "stream",
     "text": [
      "(13756, 12)\n",
      "(3439, 12)\n"
     ]
    }
   ],
   "source": [
    "print (train_data.shape)\n",
    "print (test_data.shape)"
   ]
  },
  {
   "cell_type": "code",
   "execution_count": 23,
   "metadata": {
    "collapsed": false
   },
   "outputs": [],
   "source": [
    "#Now we construct a ratings matrix R \n",
    "#We also build a matrix of only test samples\n",
    "\n",
    "R_temp= data.pivot(index=\"uid\",columns=\"bid\",values=\"Book-Rating\")\n",
    "test_matrix = np.zeros((len(N),len(M)))\n",
    "\n",
    "\n",
    "for row in test_data.itertuples():\n",
    "    user = row.uid\n",
    "    book = row.bid\n",
    "    value = row[3]\n",
    "    R_temp.ix[user][book]=np.nan\n",
    "    test_matrix[user][book]=value\n",
    "    \n",
    "    \n",
    "#we then fill in the unknown values with the average rating for each book\n",
    "#because we removed some ratings for the test set there may be books that have no ratings \n",
    "#we will give these an arbitratry rating of 0 since we can't compute an average for them\n",
    "R=R_temp.fillna(R_temp.mean().fillna(0))"
   ]
  },
  {
   "cell_type": "code",
   "execution_count": 24,
   "metadata": {
    "collapsed": true
   },
   "outputs": [],
   "source": [
    "#scoring mehtods\n",
    "\n",
    "#we assume the testset is a rankings matrix with values for the entries we want to test, zero everywhere else\n",
    "def rmse_score(prediction,testset):\n",
    "    preds = prediction[testset.nonzero()].flatten()\n",
    "    true = testset[testset.nonzero()].flatten()\n",
    "    mse = mean_squared_error(true,preds)\n",
    "    return sqrt(mse)\n",
    "\n",
    "def mae_score(prediction,testset):\n",
    "    preds = prediction[testset.nonzero()].flatten()\n",
    "    true = testset[testset.nonzero()].flatten()\n",
    "    return mean_absolute_error(true,preds)"
   ]
  },
  {
   "cell_type": "markdown",
   "metadata": {},
   "source": [
    "# Baseline "
   ]
  },
  {
   "cell_type": "markdown",
   "metadata": {},
   "source": [
    "We calculate a naive baseline to compare our algorithm results to.  \n",
    "The baseline is essentially an \"average\" rating based on the average book rating + user baseline predictor + item baseline predictor.  \n",
    "It's taken from:\n",
    "\n",
    "Michael D. Ekstrand, John T. Riedl and Joseph A. Konstan (2011), \"Collaborative Filtering Recommender Systems\", Foundations and Trends® in Human–Computer Interaction: Vol. 4: No. 2, pp 81-173. http://dx.doi.org/10.1561/1100000009\n"
   ]
  },
  {
   "cell_type": "code",
   "execution_count": 25,
   "metadata": {
    "collapsed": false
   },
   "outputs": [
    {
     "name": "stdout",
     "output_type": "stream",
     "text": [
      "RMSE for the baseline test set is 1.826440\n",
      "RMSE for the baseline train set is 1.227337\n"
     ]
    },
    {
     "name": "stderr",
     "output_type": "stream",
     "text": [
      "C:\\Users\\akwes\\Anaconda2\\envs\\ML\\lib\\site-packages\\ipykernel\\__main__.py:7: RuntimeWarning: Mean of empty slice\n"
     ]
    }
   ],
   "source": [
    "#overall average + user baseline + item baseline\n",
    "\n",
    "avg =train_data[\"Book-Rating\"].mean()\n",
    "\n",
    "\n",
    "#if there are users in the training set with no ratings fill them with zero\n",
    "bu = np.nan_to_num(np.nanmean(R_temp-avg,axis =1,keepdims=True))\n",
    "bu = np.repeat(bu,R_temp.shape[1],axis=1)\n",
    "\n",
    "#If there are books in the train set with no ratings fill them with zero\n",
    "bi = np.nan_to_num(np.nanmean(R_temp-avg- bu, axis=0,keepdims=True))\n",
    "bi = np.repeat(bi,R_temp.shape[0],axis=0)\n",
    "\n",
    "\n",
    "baseline = avg+bu+bi\n",
    "\n",
    "baseline_train_rmse = rmse_score(baseline,R_temp.fillna(0).as_matrix())\n",
    "baseline_test_rmse = rmse_score(baseline,test_matrix)\n",
    "print (\"RMSE for the baseline test set is {:f}\".format(baseline_test_rmse))\n",
    "print (\"RMSE for the baseline train set is {:f}\".format(baseline_train_rmse))\n",
    "\n"
   ]
  },
  {
   "cell_type": "markdown",
   "metadata": {},
   "source": [
    "# Algorithm 1\n",
    "\n",
    "## User based collaborative filtering "
   ]
  },
  {
   "cell_type": "code",
   "execution_count": 26,
   "metadata": {
    "collapsed": false
   },
   "outputs": [],
   "source": [
    "def predict(similarity_matrix,ratings):\n",
    "    avg_user = ratings.mean(axis=1).values.reshape(ratings.shape[0],1)\n",
    "    centered = np.subtract(ratings,avg_user)\n",
    "    temp1 = similarity_matrix.dot(centered)\n",
    "    #todo see what happens when we remove 1\n",
    "    temp2 = np.sum(np.abs(similarity_matrix),axis=1,keepdims=True)\n",
    "    return np.divide(temp1,temp2) + avg_user\n",
    "\n",
    "\n",
    "def evaluate_user_based(train,test,complete,metric,fold=1,debug=False):\n",
    "    r_temp= complete.pivot(index=\"uid\",columns=\"bid\",values=\"Book-Rating\")\n",
    "    t_matrix = np.zeros(r_temp.shape)\n",
    "    for row in test.itertuples():\n",
    "        user = row.uid\n",
    "        book = row.bid\n",
    "        value = row[3]\n",
    "        r_temp.ix[user][book]=np.nan\n",
    "        t_matrix[user][book]=value\n",
    "    \n",
    "    r=r_temp.fillna(r_temp.mean().fillna(0))\n",
    "    u_sim = pairwise_distances(r,metric=metric)\n",
    "    u_pred = predict(u_sim,r)\n",
    "    test_rmse = rmse_score(u_pred,t_matrix)\n",
    "    train_rmse = rmse_score(u_pred,r_temp.fillna(0).as_matrix())\n",
    "    if(debug):\n",
    "        print (\"RMSE for the test set for {} for fold {} is {:f}\".format(metric,fold,test_rmse))\n",
    "        print (\"RMSE for the train set for {} for fold {} is is {:f}\".format(metric,fold,train_rmse))\n",
    "    return train_rmse,test_rmse\n",
    "    \n",
    "    \n",
    "def evaluate_model_based(train,test,complete,k,fold=1,debug=False):\n",
    "    r_temp= complete.pivot(index=\"uid\",columns=\"bid\",values=\"Book-Rating\")\n",
    "    t_matrix = np.zeros(r_temp.shape)\n",
    "    for row in test.itertuples():\n",
    "        user = row.uid\n",
    "        book = row.bid\n",
    "        value = row[3]\n",
    "        r_temp.ix[user][book]=np.nan\n",
    "        t_matrix[user][book]=value\n",
    "        \n",
    "    r=r_temp.fillna(r_temp.mean().fillna(0))\n",
    "    u, s, vT = svds(r, k = k)\n",
    "\n",
    "    s_diag=np.diag(s)\n",
    "    m_pred = np.dot(np.dot(u, s_diag), vT)\n",
    "\n",
    "    test_rmse = rmse_score(m_pred,t_matrix)\n",
    "    train_rmse = rmse_score(m_pred,r_temp.fillna(0).as_matrix())\n",
    "    if(debug):\n",
    "        print (\"RMSE for the test set for k={} for fold {} is {:f}\".format(k,fold,test_rmse))\n",
    "        print (\"RMSE for the train set for k={} for fold {} is is {:f}\".format(k,fold,train_rmse))\n",
    "    return train_rmse,test_rmse\n",
    "    \n",
    "    "
   ]
  },
  {
   "cell_type": "code",
   "execution_count": 27,
   "metadata": {
    "collapsed": false
   },
   "outputs": [
    {
     "name": "stdout",
     "output_type": "stream",
     "text": [
      "RMSE for the test set is 1.653727\n",
      "RMSE for the train set is 1.651184\n"
     ]
    }
   ],
   "source": [
    "user_similarity = pairwise_distances(R,metric=\"correlation\")\n",
    "\n",
    "user_predictions = predict(user_similarity,R)\n",
    "\n",
    "user_test_rmse = rmse_score(user_predictions,test_matrix)\n",
    "\n",
    "#evaluate on the training set using only the provided ratings\n",
    "user_train_rmse = rmse_score(user_predictions,R_temp.fillna(0).as_matrix())\n",
    "\n",
    "\n",
    "print (\"RMSE for the test set is {:f}\".format(user_test_rmse))\n",
    "print (\"RMSE for the train set is {:f}\".format(user_train_rmse))"
   ]
  },
  {
   "cell_type": "code",
   "execution_count": 28,
   "metadata": {
    "collapsed": false
   },
   "outputs": [
    {
     "name": "stdout",
     "output_type": "stream",
     "text": [
      "RMSE for the test set for correlation for fold 1 is 1.653727\n",
      "RMSE for the train set for correlation for fold 1 is is 1.651184\n"
     ]
    },
    {
     "data": {
      "text/plain": [
       "(1.6511838276633186, 1.6537269421148284)"
      ]
     },
     "execution_count": 28,
     "metadata": {},
     "output_type": "execute_result"
    }
   ],
   "source": [
    "evaluate_user_based(train_data,test_data,data,\"correlation\",1,True)"
   ]
  },
  {
   "cell_type": "markdown",
   "metadata": {
    "collapsed": true
   },
   "source": [
    "# Algorithm 2\n",
    "\n",
    "## Matrix Facorization"
   ]
  },
  {
   "cell_type": "code",
   "execution_count": 29,
   "metadata": {
    "collapsed": false
   },
   "outputs": [
    {
     "name": "stdout",
     "output_type": "stream",
     "text": [
      "RMSE for the test set is 1.654593\n",
      "RMSE for the train set is 1.553805\n"
     ]
    }
   ],
   "source": [
    "#We can re-use the training and test splits from before\n",
    "\n",
    "U, S, VT = svds(R, k = 6)\n",
    "\n",
    "S_diag=np.diag(S)\n",
    "model_predictions = np.dot(np.dot(U, S_diag), VT)\n",
    "\n",
    "model_test_rmse = rmse_score(model_predictions,test_matrix)\n",
    "model_train_rmse = rmse_score(model_predictions,R_temp.fillna(0).as_matrix())\n",
    "\n",
    "\n",
    "\n",
    "print (\"RMSE for the test set is {:f}\".format(model_test_rmse))\n",
    "print (\"RMSE for the train set is {:f}\".format(model_train_rmse))"
   ]
  },
  {
   "cell_type": "code",
   "execution_count": 30,
   "metadata": {
    "collapsed": false
   },
   "outputs": [
    {
     "name": "stdout",
     "output_type": "stream",
     "text": [
      "RMSE for the test set for k=6 for fold 1 is 1.654593\n",
      "RMSE for the train set for k=6 for fold 1 is is 1.553805\n"
     ]
    },
    {
     "data": {
      "text/plain": [
       "(1.553805175471709, 1.6545934102245758)"
      ]
     },
     "execution_count": 30,
     "metadata": {},
     "output_type": "execute_result"
    }
   ],
   "source": [
    "evaluate_model_based(train_data,test_data,data,6,1,True)"
   ]
  },
  {
   "cell_type": "markdown",
   "metadata": {},
   "source": [
    "# Evaluation\n",
    "\n",
    "We can now take a look at out preliminary results\n",
    "\n",
    "We have a baseline, a User-based approach, and a model based approach using Matrix Factorization.\n",
    "\n",
    "We want to compare the RMSE for each of these models evaluated on the test set.\n"
   ]
  },
  {
   "cell_type": "code",
   "execution_count": 31,
   "metadata": {
    "collapsed": false
   },
   "outputs": [
    {
     "data": {
      "text/html": [
       "<div>\n",
       "<table border=\"1\" class=\"dataframe\">\n",
       "  <thead>\n",
       "    <tr style=\"text-align: right;\">\n",
       "      <th></th>\n",
       "      <th>Baseline</th>\n",
       "      <th>Model-based</th>\n",
       "      <th>User-based</th>\n",
       "    </tr>\n",
       "  </thead>\n",
       "  <tbody>\n",
       "    <tr>\n",
       "      <th>train</th>\n",
       "      <td>1.227337</td>\n",
       "      <td>1.553805</td>\n",
       "      <td>1.651184</td>\n",
       "    </tr>\n",
       "    <tr>\n",
       "      <th>test</th>\n",
       "      <td>1.826440</td>\n",
       "      <td>1.654593</td>\n",
       "      <td>1.653727</td>\n",
       "    </tr>\n",
       "  </tbody>\n",
       "</table>\n",
       "</div>"
      ],
      "text/plain": [
       "       Baseline  Model-based  User-based\n",
       "train  1.227337     1.553805    1.651184\n",
       "test   1.826440     1.654593    1.653727"
      ]
     },
     "execution_count": 31,
     "metadata": {},
     "output_type": "execute_result"
    }
   ],
   "source": [
    "pd.DataFrame({\"Baseline\":[baseline_train_rmse,baseline_test_rmse],\"User-based\":[user_train_rmse,user_test_rmse],\"Model-based\":[model_train_rmse,model_test_rmse]},index=[\"train\",\"test\"])"
   ]
  },
  {
   "cell_type": "markdown",
   "metadata": {},
   "source": [
    "From the preliminary results we see that our algorithms perform slightly better than the baseline.   \n",
    "\n",
    "We also see that the rmse on the training set for the model based approach is slightly lower than the test, this tells us that the model based approach is overfitting to the training set and would benefit from regularization in future runs.\n",
    "\n"
   ]
  },
  {
   "cell_type": "markdown",
   "metadata": {},
   "source": [
    "## Hyperparameters\n",
    "Now that we have the basic functionality we want to tune some of the parameters of the different algorithms\n",
    "* For the User-based approach we want to try different distance measures\n",
    "* For the Model-based appriach we want to try different sizes of k, the latent factor rank\n",
    "\n",
    "We will also used 5 fold cross validation to get a more stable result.\n"
   ]
  },
  {
   "cell_type": "code",
   "execution_count": 32,
   "metadata": {
    "collapsed": false,
    "scrolled": false
   },
   "outputs": [],
   "source": [
    "def foldit(splits_num,dataset,ks):\n",
    "    kf = KFold(n_splits = splits_num,shuffle=True)\n",
    "    #make possible k values a proportion of the number of users\n",
    "    distance_metrics = [\"euclidean\",\"correlation\",\"cosine\"]\n",
    "\n",
    "\n",
    "    model_based_results={}\n",
    "    user_based_results={}\n",
    "    for m in distance_metrics:\n",
    "        user_based_results[m]={\"train\":[],\"test\":[]}\n",
    "\n",
    "    for k_val in ks:\n",
    "        model_based_results[k_val]={\"train\":[],\"test\":[]}\n",
    "\n",
    "\n",
    "    i=1\n",
    "    splits = kf.split(dataset)\n",
    "    for train_index,test_index in splits:\n",
    "        train_set = data.ix[train_index]\n",
    "        test_set = data.ix[test_index]\n",
    "        for m in distance_metrics:\n",
    "            tr,te = evaluate_user_based(train_set,test_set,data,m,i)\n",
    "            user_based_results[m][\"train\"].append(tr)\n",
    "            user_based_results[m][\"test\"].append(te)\n",
    "        for k_val in ks:\n",
    "            tr,te = evaluate_model_based(train_set,test_set,data,k_val,i)\n",
    "            model_based_results[k_val][\"train\"].append(tr)\n",
    "            model_based_results[k_val][\"test\"].append(te)\n",
    "        print (\"fold {} of {} complete\".format(i,splits_num))\n",
    "        i+=1\n",
    "    return user_based_results,model_based_results\n",
    "    \n",
    "\n",
    "    \n",
    "    \n",
    "    "
   ]
  },
  {
   "cell_type": "code",
   "execution_count": 33,
   "metadata": {
    "collapsed": false
   },
   "outputs": [
    {
     "name": "stdout",
     "output_type": "stream",
     "text": [
      "fold 1 of 5 complete\n",
      "fold 2 of 5 complete\n",
      "fold 3 of 5 complete\n",
      "fold 4 of 5 complete\n",
      "fold 5 of 5 complete\n"
     ]
    }
   ],
   "source": [
    "n = min(len(data[\"User-ID\"].unique()),len(data[\"ISBN\"].unique()))\n",
    "step = int((n/1.1-n/9)/10)\n",
    "ks = np.arange(int(n/9),int(n/1.1),step)[:-1]\n",
    "user_results,model_results = foldit(5,data,ks)"
   ]
  },
  {
   "cell_type": "code",
   "execution_count": 34,
   "metadata": {
    "collapsed": false
   },
   "outputs": [
    {
     "data": {
      "text/html": [
       "<div>\n",
       "<table border=\"1\" class=\"dataframe\">\n",
       "  <thead>\n",
       "    <tr style=\"text-align: right;\">\n",
       "      <th></th>\n",
       "      <th>correlation</th>\n",
       "      <th>cosine</th>\n",
       "      <th>euclidean</th>\n",
       "    </tr>\n",
       "  </thead>\n",
       "  <tbody>\n",
       "    <tr>\n",
       "      <th>train</th>\n",
       "      <td>1.647582</td>\n",
       "      <td>1.647812</td>\n",
       "      <td>1.642828</td>\n",
       "    </tr>\n",
       "    <tr>\n",
       "      <th>test</th>\n",
       "      <td>1.668264</td>\n",
       "      <td>1.668294</td>\n",
       "      <td>1.668262</td>\n",
       "    </tr>\n",
       "  </tbody>\n",
       "</table>\n",
       "</div>"
      ],
      "text/plain": [
       "       correlation    cosine  euclidean\n",
       "train     1.647582  1.647812   1.642828\n",
       "test      1.668264  1.668294   1.668262"
      ]
     },
     "execution_count": 34,
     "metadata": {},
     "output_type": "execute_result"
    }
   ],
   "source": [
    "frame_data={}\n",
    "for m in user_results:\n",
    "    fold_results = user_results[m]\n",
    "    tr_avg = np.average(fold_results[\"train\"])\n",
    "    te_avg = np.average(fold_results[\"test\"])\n",
    "    frame_data[m]=[tr_avg,te_avg]\n",
    "    \n",
    "pd.DataFrame(frame_data,index=[\"train\",\"test\"])"
   ]
  },
  {
   "cell_type": "code",
   "execution_count": 35,
   "metadata": {
    "collapsed": false
   },
   "outputs": [
    {
     "data": {
      "text/html": [
       "<div>\n",
       "<table border=\"1\" class=\"dataframe\">\n",
       "  <thead>\n",
       "    <tr style=\"text-align: right;\">\n",
       "      <th></th>\n",
       "      <th>19</th>\n",
       "      <th>33</th>\n",
       "      <th>47</th>\n",
       "      <th>61</th>\n",
       "      <th>75</th>\n",
       "      <th>89</th>\n",
       "      <th>103</th>\n",
       "      <th>117</th>\n",
       "      <th>131</th>\n",
       "      <th>145</th>\n",
       "    </tr>\n",
       "  </thead>\n",
       "  <tbody>\n",
       "    <tr>\n",
       "      <th>train</th>\n",
       "      <td>1.361947</td>\n",
       "      <td>1.203089</td>\n",
       "      <td>1.065694</td>\n",
       "      <td>0.943989</td>\n",
       "      <td>0.829975</td>\n",
       "      <td>0.721211</td>\n",
       "      <td>0.616274</td>\n",
       "      <td>0.520522</td>\n",
       "      <td>0.428841</td>\n",
       "      <td>0.334278</td>\n",
       "    </tr>\n",
       "    <tr>\n",
       "      <th>test</th>\n",
       "      <td>1.662495</td>\n",
       "      <td>1.659671</td>\n",
       "      <td>1.658128</td>\n",
       "      <td>1.658875</td>\n",
       "      <td>1.660895</td>\n",
       "      <td>1.662987</td>\n",
       "      <td>1.665096</td>\n",
       "      <td>1.667157</td>\n",
       "      <td>1.669213</td>\n",
       "      <td>1.671588</td>\n",
       "    </tr>\n",
       "  </tbody>\n",
       "</table>\n",
       "</div>"
      ],
      "text/plain": [
       "            19        33        47        61        75        89        103  \\\n",
       "train  1.361947  1.203089  1.065694  0.943989  0.829975  0.721211  0.616274   \n",
       "test   1.662495  1.659671  1.658128  1.658875  1.660895  1.662987  1.665096   \n",
       "\n",
       "            117       131       145  \n",
       "train  0.520522  0.428841  0.334278  \n",
       "test   1.667157  1.669213  1.671588  "
      ]
     },
     "metadata": {},
     "output_type": "display_data"
    }
   ],
   "source": [
    "frame_data={}\n",
    "for k in model_results:\n",
    "    fold_results = model_results[k]\n",
    "    tr_avg = np.average(fold_results[\"train\"])\n",
    "    te_avg = np.average(fold_results[\"test\"])\n",
    "    frame_data[k]=[tr_avg,te_avg]\n",
    "temp_frame=pd.DataFrame(frame_data,index=[\"train\",\"test\"])\n",
    "display(temp_frame)"
   ]
  },
  {
   "cell_type": "code",
   "execution_count": 36,
   "metadata": {
    "collapsed": false
   },
   "outputs": [
    {
     "data": {
      "image/png": "[encoded data removed]",
      "text/plain": [
       "<matplotlib.figure.Figure at 0x19c86344160>"
      ]
     },
     "metadata": {},
     "output_type": "display_data"
    }
   ],
   "source": [
    "t2=temp_frame.reset_index()\n",
    "t3=pd.melt(t2,id_vars=[\"index\"],value_vars=list(t2.columns[1:]))\n",
    "t3.columns=[\"Type\",\"k\",\"value\"]\n",
    "\n",
    "sns.lmplot(x=\"k\", y=\"value\", hue=\"Type\", data=t3,\n",
    "            ci=None, palette=\"muted\",size=4,\n",
    "           scatter_kws={\"s\": 50, \"alpha\": 1},fit_reg=False)\n",
    "plt.title(\"Change in rmse for train and test as k increases\")\n",
    "plt.show()"
   ]
  },
  {
   "cell_type": "markdown",
   "metadata": {},
   "source": [
    "It appears there is little difference between the different distance metrics in terms of the rmse on the test.  \n",
    "\n",
    "For the Model-based approach it appears the optimal k is around 274, as the test set rmse begins to increase at that point. Even that increase is not very significant. "
   ]
  },
  {
   "cell_type": "markdown",
   "metadata": {},
   "source": [
    "Finally we try a third party library instead of our native implementations.  \n",
    "This is using the [surprise](http://surprise.readthedocs.io/en/latest/index.html) library and is an SVD model"
   ]
  },
  {
   "cell_type": "code",
   "execution_count": 37,
   "metadata": {
    "collapsed": true
   },
   "outputs": [],
   "source": [
    "def tp(d):\n",
    "    reader = Reader(rating_scale=(1, 10))\n",
    "\n",
    "    third_data = ds.load_from_df(data[['User-ID', 'ISBN', 'Book-Rating']], reader)\n",
    "\n",
    "    third_data.split(n_folds=5)\n",
    "    algo = SVD()\n",
    "\n",
    "    perf = evaluate(algo,third_data,measures=[\"RMSE\"],verbose=0)\n",
    "    \n",
    "    return np.average(perf[\"RMSE\"])"
   ]
  },
  {
   "cell_type": "code",
   "execution_count": 38,
   "metadata": {
    "collapsed": false
   },
   "outputs": [
    {
     "name": "stdout",
     "output_type": "stream",
     "text": [
      "test set rmse for svd is 1.6169145545962729\n"
     ]
    }
   ],
   "source": [
    "print (\"test set rmse for svd is {}\".format(tp(data)))"
   ]
  },
  {
   "cell_type": "markdown",
   "metadata": {},
   "source": [
    "The third party library achieves even better results for the svd than our implementation.  "
   ]
  },
  {
   "cell_type": "markdown",
   "metadata": {},
   "source": [
    "## Sample size\n",
    "\n",
    "We now want to observe how our results change as we reduce the number of users.  \n",
    "Our original evaluation used users with 3 or more ratings, which gave us 1,372 users.  \n",
    "We will now take a look at the upper percentiles for user counts to vary our user size."
   ]
  },
  {
   "cell_type": "code",
   "execution_count": 39,
   "metadata": {
    "collapsed": false
   },
   "outputs": [
    {
     "name": "stdout",
     "output_type": "stream",
     "text": [
      "0.970      8.0\n",
      "0.971      8.0\n",
      "0.972      8.0\n",
      "0.973      8.0\n",
      "0.974      8.0\n",
      "0.975      8.0\n",
      "0.976      9.0\n",
      "0.977      9.0\n",
      "0.978      9.0\n",
      "0.979      9.0\n",
      "0.980      9.0\n",
      "0.981      9.0\n",
      "0.982     10.0\n",
      "0.983     10.0\n",
      "0.984     10.0\n",
      "0.985     10.0\n",
      "0.986     11.0\n",
      "0.987     11.0\n",
      "0.988     11.0\n",
      "0.989     12.0\n",
      "0.990     12.0\n",
      "0.991     13.0\n",
      "0.992     13.0\n",
      "0.993     14.0\n",
      "0.994     14.0\n",
      "0.995     15.0\n",
      "0.996     16.0\n",
      "0.997     17.0\n",
      "0.998     21.0\n",
      "0.999     25.0\n",
      "1.000    120.0\n",
      "Name: Book-Rating, dtype: float64\n"
     ]
    }
   ],
   "source": [
    "tiles=top_5.groupby([\"User-ID\"]).count()['Book-Rating'].quantile(np.arange(.97, 1, .001))\n",
    "print (tiles)"
   ]
  },
  {
   "cell_type": "code",
   "execution_count": 40,
   "metadata": {
    "collapsed": false
   },
   "outputs": [
    {
     "name": "stdout",
     "output_type": "stream",
     "text": [
      "[  8.   8.   9.   9.  10.  10.  11.  13.  14.  17.]\n"
     ]
    }
   ],
   "source": [
    "#take 11 evenly spaced valus and throw out the last one\n",
    "percentiles =tiles.values[0::3][:-1]\n",
    "print (percentiles)"
   ]
  },
  {
   "cell_type": "code",
   "execution_count": 41,
   "metadata": {
    "collapsed": false,
    "scrolled": true
   },
   "outputs": [
    {
     "name": "stdout",
     "output_type": "stream",
     "text": [
      "fold 1 of 5 complete\n",
      "fold 2 of 5 complete\n",
      "fold 3 of 5 complete\n",
      "fold 4 of 5 complete\n",
      "fold 5 of 5 complete\n",
      "1 of 10 sample sizes run\n",
      "fold 1 of 5 complete\n",
      "fold 2 of 5 complete\n",
      "fold 3 of 5 complete\n",
      "fold 4 of 5 complete\n",
      "fold 5 of 5 complete\n",
      "2 of 10 sample sizes run\n",
      "fold 1 of 5 complete\n",
      "fold 2 of 5 complete\n",
      "fold 3 of 5 complete\n",
      "fold 4 of 5 complete\n",
      "fold 5 of 5 complete\n",
      "3 of 10 sample sizes run\n",
      "fold 1 of 5 complete\n",
      "fold 2 of 5 complete\n",
      "fold 3 of 5 complete\n",
      "fold 4 of 5 complete\n",
      "fold 5 of 5 complete\n",
      "4 of 10 sample sizes run\n",
      "fold 1 of 5 complete\n",
      "fold 2 of 5 complete\n",
      "fold 3 of 5 complete\n",
      "fold 4 of 5 complete\n",
      "fold 5 of 5 complete\n",
      "5 of 10 sample sizes run\n",
      "fold 1 of 5 complete\n",
      "fold 2 of 5 complete\n",
      "fold 3 of 5 complete\n",
      "fold 4 of 5 complete\n",
      "fold 5 of 5 complete\n",
      "6 of 10 sample sizes run\n",
      "fold 1 of 5 complete\n",
      "fold 2 of 5 complete\n",
      "fold 3 of 5 complete\n",
      "fold 4 of 5 complete\n",
      "fold 5 of 5 complete\n",
      "7 of 10 sample sizes run\n",
      "fold 1 of 5 complete\n",
      "fold 2 of 5 complete\n",
      "fold 3 of 5 complete\n",
      "fold 4 of 5 complete\n",
      "fold 5 of 5 complete\n",
      "8 of 10 sample sizes run\n",
      "fold 1 of 5 complete\n",
      "fold 2 of 5 complete\n",
      "fold 3 of 5 complete\n",
      "fold 4 of 5 complete\n",
      "fold 5 of 5 complete\n",
      "9 of 10 sample sizes run\n",
      "fold 1 of 5 complete\n",
      "fold 2 of 5 complete\n",
      "fold 3 of 5 complete\n",
      "fold 4 of 5 complete\n",
      "fold 5 of 5 complete\n",
      "10 of 10 sample sizes run\n"
     ]
    }
   ],
   "source": [
    "sample ={}\n",
    "i=1\n",
    "for p in percentiles:\n",
    "    users_grouping = top_5.groupby([\"User-ID\"]).count()[\"Book-Rating\"]>=p\n",
    "    users_indexes = (users_grouping[users_grouping]).index\n",
    "    users_trimmed = top_5[top_5[\"User-ID\"].isin(users_indexes)]\n",
    "    n_users = len(users_trimmed[\"User-ID\"].unique())\n",
    "    sample[n_users]={}\n",
    "    lcd= min(len(users_trimmed[\"User-ID\"].unique()),len(users_trimmed[\"ISBN\"].unique()))\n",
    "    k= int(.20*lcd)\n",
    "    user_results,model_results = foldit(5,users_trimmed,[k])\n",
    "    third_party_results = tp(users_trimmed)\n",
    "    sample[n_users][\"u\"]=user_results\n",
    "    sample[n_users][\"m\"]=model_results\n",
    "    sample[n_users][\"t\"]=third_party_results\n",
    "    print (\"{} of {} sample sizes run\".format(i,len(percentiles)))\n",
    "    i+=1\n",
    "    \n",
    "    "
   ]
  },
  {
   "cell_type": "code",
   "execution_count": 42,
   "metadata": {
    "collapsed": false
   },
   "outputs": [],
   "source": [
    "user_rows=[]\n",
    "model_rows =[]\n",
    "for p in sample:\n",
    "    algos = sample[p]\n",
    "    for a in algos:\n",
    "        if (a==\"t\"):\n",
    "            row = [\"3p_svd\",\"test\",p,algos[a]]\n",
    "        elif (a==\"m\"):\n",
    "            ks = algos[a]\n",
    "            for k in ks:\n",
    "                types = ks[k]\n",
    "                for t in types:\n",
    "                    val = np.average(types[t])\n",
    "                    row = [k,t,p,val]\n",
    "                    model_rows.append(row)\n",
    "        else:\n",
    "            mets = algos[a]\n",
    "            for m in mets:\n",
    "                types = mets[m]\n",
    "                for t in types:\n",
    "                    val = np.average(types[t])\n",
    "                    row =[m,t,p,val]\n",
    "                    user_rows.append(row)\n",
    "user_plot = pd.DataFrame.from_records(user_rows,columns=[\"Algo\",\"Type\",\"x\",\"y\"])\n",
    "model_plot = pd.DataFrame.from_records(model_rows,columns=[\"k\",\"Type\",\"x\",\"y\"]) \n",
    "\n"
   ]
  },
  {
   "cell_type": "code",
   "execution_count": 43,
   "metadata": {
    "collapsed": false
   },
   "outputs": [
    {
     "data": {
      "image/png": "[encoded data removed]",
      "text/plain": [
       "<matplotlib.figure.Figure at 0x19c8f5e5550>"
      ]
     },
     "metadata": {},
     "output_type": "display_data"
    }
   ],
   "source": [
    "#RMSE as number of users increases\n",
    "sns.lmplot(x=\"x\", y=\"y\", hue=\"Type\", data=user_plot,col=\"Algo\",\n",
    "            ci=None, palette=\"muted\",size=4,\n",
    "           scatter_kws={\"s\": 50, \"alpha\": 1},fit_reg=False)\n",
    "\n",
    "plt.show()"
   ]
  },
  {
   "cell_type": "code",
   "execution_count": 44,
   "metadata": {
    "collapsed": false
   },
   "outputs": [
    {
     "data": {
      "image/png": "[encoded data removed]",
      "text/plain": [
       "<matplotlib.figure.Figure at 0x19c8f673da0>"
      ]
     },
     "metadata": {},
     "output_type": "display_data"
    }
   ],
   "source": [
    "#RMSE as k increases for matrix factorization\n",
    "sns.lmplot(x=\"x\", y=\"y\", hue=\"Type\", data=model_plot,\n",
    "            ci=None, palette=\"muted\",size=4,\n",
    "           scatter_kws={\"s\": 50, \"alpha\": 1},fit_reg=False,sharey=False)\n",
    "plt.show()"
   ]
  },
  {
   "cell_type": "markdown",
   "metadata": {},
   "source": [
    "# Conclusions\n",
    "\n",
    "All of our models have outperformed our baseline, with the external library achieving the lowest RMSE. \n",
    "The downside of our work is that we severly restricted the number of items as required so it's difficult to say whether the models would generalize well for the rest of the catalogue. Smaller numbers of samples(users/items) achieve faster runtimes and accuracy but we have sacrificed coverage. This experiment uses .001% of the catalogue. In terms of the original objectives, we have definitely achieved a model that can make better predictions than a baseline for recommending books to clients. In terms of next steps. The native implementations could be slightly improved. For the User-based approach we could consider only the top k neighbours when predicting for an item instead of weighting every other user by their similarity. For the Model-based approach the native implementation would benefit from regularization to reduce overfitting and generalize better.  \n",
    "The key take-aways are:\n",
    "* As a proof of concept a collaborative filtering approach is superior to an averaged item/user rating baseline for recommending books to customers.\n",
    "* The current implementation suffers from an inability to scale in terms of running time for large datasets.\n",
    "* The current implementation achieves very poor coverage although this was a requirement.\n",
    "* It's not clear how well the current implementation would generalize for a larger portion of the catalogue. Experiments not inlcuded here showed that increasing coverage to .95% resulted in the baseline outperforming all the models except the external library. \n",
    "* The entire model needs to be recalculated when new users or books are added."
   ]
  },
  {
   "cell_type": "markdown",
   "metadata": {},
   "source": [
    "# Final thoughts\n",
    "\n",
    "There are a number of ways the current model can be tuned to fit with business needs.  \n",
    "* For instance, adding a factor such that each predicted rating is scaled or boosted by some proportion based on a property of the book. As an example, a recency factor could weight recently published books more heavily. This would make newer books more likely to be recommended. Factors could also be based on price or current marketing initiatives. "
   ]
  }
 ],
 "metadata": {
  "anaconda-cloud": {},
  "kernelspec": {
   "display_name": "Python [conda env:ML]",
   "language": "python",
   "name": "conda-env-ML-py"
  },
  "language_info": {
   "codemirror_mode": {
    "name": "ipython",
    "version": 3
   },
   "file_extension": ".py",
   "mimetype": "text/x-python",
   "name": "python",
   "nbconvert_exporter": "python",
   "pygments_lexer": "ipython3",
   "version": "3.6.0"
  }
 },
 "nbformat": 4,
 "nbformat_minor": 1
}
